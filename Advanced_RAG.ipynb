{
  "nbformat": 4,
  "nbformat_minor": 0,
  "metadata": {
    "colab": {
      "provenance": [],
      "include_colab_link": true
    },
    "kernelspec": {
      "name": "python3",
      "display_name": "Python 3"
    },
    "language_info": {
      "name": "python"
    }
  },
  "cells": [
    {
      "cell_type": "markdown",
      "metadata": {
        "id": "view-in-github",
        "colab_type": "text"
      },
      "source": [
        "<a href=\"https://colab.research.google.com/github/mrozenva/ChatGPT-PromptEngineering/blob/main/Advanced_RAG.ipynb\" target=\"_parent\"><img src=\"https://colab.research.google.com/assets/colab-badge.svg\" alt=\"Open In Colab\"/></a>"
      ]
    },
    {
      "cell_type": "markdown",
      "source": [
        "\n",
        "Advanced RAG Using Window Sentence Retrieval\n"
      ],
      "metadata": {
        "id": "VSg8cgC7Eket"
      }
    },
    {
      "cell_type": "code",
      "source": [
        "%%capture\n",
        "!pip install llama-index >> null\n",
        "!pip install openai >> null\n",
        "!pip install pypdf >> null   # for reading PDF files\n",
        "!pip install docx2txt > null # for reading MS doc files"
      ],
      "metadata": {
        "id": "80j0NLMeKSNF"
      },
      "execution_count": 1,
      "outputs": []
    },
    {
      "cell_type": "code",
      "source": [
        "import os\n",
        "import openai\n",
        "\n",
        "import logging\n",
        "import sys\n",
        "from pprint import pprint\n",
        "\n",
        "logging.basicConfig(stream=sys.stdout, level=logging.INFO)\n",
        "logging.getLogger().addHandler(logging.StreamHandler(stream=sys.stdout))\n",
        "\n",
        "from llama_index import (\n",
        "    VectorStoreIndex,\n",
        "    SimpleDirectoryReader,\n",
        "    load_index_from_storage,\n",
        "    StorageContext,\n",
        "    ServiceContext,\n",
        "    Document\n",
        ")\n",
        "\n",
        "from llama_index.llms import OpenAI, Anthropic\n",
        "from llama_index.node_parser import SentenceWindowNodeParser, HierarchicalNodeParser, get_leaf_nodes\n",
        "from llama_index.text_splitter import SentenceSplitter\n",
        "from llama_index.embeddings import OpenAIEmbedding, HuggingFaceEmbedding\n",
        "from llama_index.schema import MetadataMode\n",
        "from llama_index.postprocessor import MetadataReplacementPostProcessor\n",
        "\n",
        "# from IPython.display import Markdown, display\n",
        "# from transformers import AutoTokenizer, T5ForConditionalGeneration"
      ],
      "metadata": {
        "id": "41k07tZ1y5hO"
      },
      "execution_count": 2,
      "outputs": []
    },
    {
      "cell_type": "markdown",
      "source": [
        "# Step 0:  Authentication with API Key"
      ],
      "metadata": {
        "id": "iQsoNRmPWSJX"
      }
    },
    {
      "cell_type": "code",
      "source": [
        "openai_key = \"##########################################\" #<--- Your API KEY"
      ],
      "metadata": {
        "id": "yytwrUsNWRh9"
      },
      "execution_count": 3,
      "outputs": []
    },
    {
      "cell_type": "code",
      "source": [
        "openai.api_key = openai_key"
      ],
      "metadata": {
        "id": "AEpZgfYxf0nU"
      },
      "execution_count": 4,
      "outputs": []
    },
    {
      "cell_type": "markdown",
      "source": [
        "# Step 1:  Fetch Data and Store into local directory"
      ],
      "metadata": {
        "id": "GR6pr5dXFIcA"
      }
    },
    {
      "cell_type": "code",
      "source": [
        "# create local directory and retrieve file from external source\n",
        "!mkdir -p 'my_data'"
      ],
      "metadata": {
        "id": "QjYFGE6Vm2YB"
      },
      "execution_count": 5,
      "outputs": []
    },
    {
      "cell_type": "code",
      "source": [
        "from google.colab import files\n",
        "uploaded = files.upload()"
      ],
      "metadata": {
        "colab": {
          "base_uri": "https://localhost:8080/",
          "height": 86
        },
        "id": "CadwXytytOLr",
        "outputId": "b9d97c88-ae64-448e-8e8d-37e75926d5f8"
      },
      "execution_count": 6,
      "outputs": [
        {
          "output_type": "display_data",
          "data": {
            "text/plain": [
              "<IPython.core.display.HTML object>"
            ],
            "text/html": [
              "\n",
              "     <input type=\"file\" id=\"files-7327af15-c4a8-4bcc-bcab-80026022e9bf\" name=\"files[]\" multiple disabled\n",
              "        style=\"border:none\" />\n",
              "     <output id=\"result-7327af15-c4a8-4bcc-bcab-80026022e9bf\">\n",
              "      Upload widget is only available when the cell has been executed in the\n",
              "      current browser session. Please rerun this cell to enable.\n",
              "      </output>\n",
              "      <script>// Copyright 2017 Google LLC\n",
              "//\n",
              "// Licensed under the Apache License, Version 2.0 (the \"License\");\n",
              "// you may not use this file except in compliance with the License.\n",
              "// You may obtain a copy of the License at\n",
              "//\n",
              "//      http://www.apache.org/licenses/LICENSE-2.0\n",
              "//\n",
              "// Unless required by applicable law or agreed to in writing, software\n",
              "// distributed under the License is distributed on an \"AS IS\" BASIS,\n",
              "// WITHOUT WARRANTIES OR CONDITIONS OF ANY KIND, either express or implied.\n",
              "// See the License for the specific language governing permissions and\n",
              "// limitations under the License.\n",
              "\n",
              "/**\n",
              " * @fileoverview Helpers for google.colab Python module.\n",
              " */\n",
              "(function(scope) {\n",
              "function span(text, styleAttributes = {}) {\n",
              "  const element = document.createElement('span');\n",
              "  element.textContent = text;\n",
              "  for (const key of Object.keys(styleAttributes)) {\n",
              "    element.style[key] = styleAttributes[key];\n",
              "  }\n",
              "  return element;\n",
              "}\n",
              "\n",
              "// Max number of bytes which will be uploaded at a time.\n",
              "const MAX_PAYLOAD_SIZE = 100 * 1024;\n",
              "\n",
              "function _uploadFiles(inputId, outputId) {\n",
              "  const steps = uploadFilesStep(inputId, outputId);\n",
              "  const outputElement = document.getElementById(outputId);\n",
              "  // Cache steps on the outputElement to make it available for the next call\n",
              "  // to uploadFilesContinue from Python.\n",
              "  outputElement.steps = steps;\n",
              "\n",
              "  return _uploadFilesContinue(outputId);\n",
              "}\n",
              "\n",
              "// This is roughly an async generator (not supported in the browser yet),\n",
              "// where there are multiple asynchronous steps and the Python side is going\n",
              "// to poll for completion of each step.\n",
              "// This uses a Promise to block the python side on completion of each step,\n",
              "// then passes the result of the previous step as the input to the next step.\n",
              "function _uploadFilesContinue(outputId) {\n",
              "  const outputElement = document.getElementById(outputId);\n",
              "  const steps = outputElement.steps;\n",
              "\n",
              "  const next = steps.next(outputElement.lastPromiseValue);\n",
              "  return Promise.resolve(next.value.promise).then((value) => {\n",
              "    // Cache the last promise value to make it available to the next\n",
              "    // step of the generator.\n",
              "    outputElement.lastPromiseValue = value;\n",
              "    return next.value.response;\n",
              "  });\n",
              "}\n",
              "\n",
              "/**\n",
              " * Generator function which is called between each async step of the upload\n",
              " * process.\n",
              " * @param {string} inputId Element ID of the input file picker element.\n",
              " * @param {string} outputId Element ID of the output display.\n",
              " * @return {!Iterable<!Object>} Iterable of next steps.\n",
              " */\n",
              "function* uploadFilesStep(inputId, outputId) {\n",
              "  const inputElement = document.getElementById(inputId);\n",
              "  inputElement.disabled = false;\n",
              "\n",
              "  const outputElement = document.getElementById(outputId);\n",
              "  outputElement.innerHTML = '';\n",
              "\n",
              "  const pickedPromise = new Promise((resolve) => {\n",
              "    inputElement.addEventListener('change', (e) => {\n",
              "      resolve(e.target.files);\n",
              "    });\n",
              "  });\n",
              "\n",
              "  const cancel = document.createElement('button');\n",
              "  inputElement.parentElement.appendChild(cancel);\n",
              "  cancel.textContent = 'Cancel upload';\n",
              "  const cancelPromise = new Promise((resolve) => {\n",
              "    cancel.onclick = () => {\n",
              "      resolve(null);\n",
              "    };\n",
              "  });\n",
              "\n",
              "  // Wait for the user to pick the files.\n",
              "  const files = yield {\n",
              "    promise: Promise.race([pickedPromise, cancelPromise]),\n",
              "    response: {\n",
              "      action: 'starting',\n",
              "    }\n",
              "  };\n",
              "\n",
              "  cancel.remove();\n",
              "\n",
              "  // Disable the input element since further picks are not allowed.\n",
              "  inputElement.disabled = true;\n",
              "\n",
              "  if (!files) {\n",
              "    return {\n",
              "      response: {\n",
              "        action: 'complete',\n",
              "      }\n",
              "    };\n",
              "  }\n",
              "\n",
              "  for (const file of files) {\n",
              "    const li = document.createElement('li');\n",
              "    li.append(span(file.name, {fontWeight: 'bold'}));\n",
              "    li.append(span(\n",
              "        `(${file.type || 'n/a'}) - ${file.size} bytes, ` +\n",
              "        `last modified: ${\n",
              "            file.lastModifiedDate ? file.lastModifiedDate.toLocaleDateString() :\n",
              "                                    'n/a'} - `));\n",
              "    const percent = span('0% done');\n",
              "    li.appendChild(percent);\n",
              "\n",
              "    outputElement.appendChild(li);\n",
              "\n",
              "    const fileDataPromise = new Promise((resolve) => {\n",
              "      const reader = new FileReader();\n",
              "      reader.onload = (e) => {\n",
              "        resolve(e.target.result);\n",
              "      };\n",
              "      reader.readAsArrayBuffer(file);\n",
              "    });\n",
              "    // Wait for the data to be ready.\n",
              "    let fileData = yield {\n",
              "      promise: fileDataPromise,\n",
              "      response: {\n",
              "        action: 'continue',\n",
              "      }\n",
              "    };\n",
              "\n",
              "    // Use a chunked sending to avoid message size limits. See b/62115660.\n",
              "    let position = 0;\n",
              "    do {\n",
              "      const length = Math.min(fileData.byteLength - position, MAX_PAYLOAD_SIZE);\n",
              "      const chunk = new Uint8Array(fileData, position, length);\n",
              "      position += length;\n",
              "\n",
              "      const base64 = btoa(String.fromCharCode.apply(null, chunk));\n",
              "      yield {\n",
              "        response: {\n",
              "          action: 'append',\n",
              "          file: file.name,\n",
              "          data: base64,\n",
              "        },\n",
              "      };\n",
              "\n",
              "      let percentDone = fileData.byteLength === 0 ?\n",
              "          100 :\n",
              "          Math.round((position / fileData.byteLength) * 100);\n",
              "      percent.textContent = `${percentDone}% done`;\n",
              "\n",
              "    } while (position < fileData.byteLength);\n",
              "  }\n",
              "\n",
              "  // All done.\n",
              "  yield {\n",
              "    response: {\n",
              "      action: 'complete',\n",
              "    }\n",
              "  };\n",
              "}\n",
              "\n",
              "scope.google = scope.google || {};\n",
              "scope.google.colab = scope.google.colab || {};\n",
              "scope.google.colab._files = {\n",
              "  _uploadFiles,\n",
              "  _uploadFilesContinue,\n",
              "};\n",
              "})(self);\n",
              "</script> "
            ]
          },
          "metadata": {}
        },
        {
          "output_type": "stream",
          "name": "stdout",
          "text": [
            "Saving Manufacturing Agreement 5.19.10 SHBV Waste2Energy.txt to Manufacturing Agreement 5.19.10 SHBV Waste2Energy.txt\n"
          ]
        }
      ]
    },
    {
      "cell_type": "code",
      "source": [
        "!mv *.txt my_data/"
      ],
      "metadata": {
        "id": "wYpvCe4ltYhC"
      },
      "execution_count": 8,
      "outputs": []
    },
    {
      "cell_type": "markdown",
      "source": [
        "# Step 2:  Load into files into \"Document\" Object"
      ],
      "metadata": {
        "id": "UAbaUC1pMKyy"
      }
    },
    {
      "cell_type": "code",
      "source": [
        "documents = SimpleDirectoryReader(\"./my_data/\").load_data()"
      ],
      "metadata": {
        "id": "8Ayy1MjsMPCV"
      },
      "execution_count": 12,
      "outputs": []
    },
    {
      "cell_type": "markdown",
      "source": [
        "# Step 2B (Optional):  Inspect the documents obect"
      ],
      "metadata": {
        "id": "E6KaQKW2QLa2"
      }
    },
    {
      "cell_type": "code",
      "source": [
        "# Inspect the documents\n",
        "print(\"length of doc: \"+ str(len(documents)))\n",
        "print(\"----\")\n",
        "pprint(documents)\n"
      ],
      "metadata": {
        "colab": {
          "base_uri": "https://localhost:8080/"
        },
        "id": "-jrFMu5KnFX3",
        "outputId": "f129dec0-edb4-4c3a-ddf3-925cb1460592"
      },
      "execution_count": 13,
      "outputs": [
        {
          "output_type": "stream",
          "name": "stdout",
          "text": [
            "length of doc: 1\n",
            "----\n",
            "[Document(id_='2658be82-bd35-499c-aba0-ead2ef7a7236', embedding=None, metadata={'file_path': 'my_data/Manufacturing Agreement 5.19.10 SHBV Waste2Energy.txt', 'file_name': 'Manufacturing Agreement 5.19.10 SHBV Waste2Energy.txt', 'file_type': 'text/plain', 'file_size': 56552, 'creation_date': '2023-12-19', 'last_modified_date': '2023-12-19', 'last_accessed_date': '2023-12-19'}, excluded_embed_metadata_keys=['file_name', 'file_type', 'file_size', 'creation_date', 'last_modified_date', 'last_accessed_date'], excluded_llm_metadata_keys=['file_name', 'file_type', 'file_size', 'creation_date', 'last_modified_date', 'last_accessed_date'], relationships={}, hash='46c93b7b5c63cc9da38848df4d9e1a8eeca7514e03b0199b99ce55d177febad6', text='Exhibit 10.1\\n\\nManufacturing Agreement\\n\\n       AGREEMENT made this 19th day of May, 2010 by and between SHBV (Hong Kong) Ltd (SHBV), a Company with its principal place of business at Unit 3208, 32/F Office Tower, Convention Plaza No. 1 Harbour Road, Hong Kong and WASTE2ENERGY GROUP company registered in Isle of Man Corporation (Company Registration No. 0038V) whose registered office is at Stanley House, Lord Street, Douglas, Isle of Man 1M1 2BF (W2EGH), WASTE2ENERGY ENGINEERING LIMITED, a\\ncompany registered in Scotland (Company Registration No. SC360321) of Hestan House, Crichton Business Park, Bankend Road, Dumfries, DG1 4TA, United Kingdom (W2EE) and WASTE2ENERGY TECHNOLOGIES INTERNATIONAL LIMITED, a company registered in Isle of Man (Company Registration No. 003615V) whose registered office is at Stanley House, Lord Street, Douglas, Isle of Man 1M1 2BF (W2ETI). W2EGH, W2EE and W2ETI are hereinafter collectively referred to as W2E).\\n\\nSummary\\n\\nW2E is comprised of companies involved in the licensing processes and the supply of certain equipment for waste and energy plants as well as developing, marketing and supporting certain Proprietary Technology Products (the Products) protected by patents and patents pending known as sBOS, cBOS and COR as defined below.\\n\\nSHBV wishes to provide raw materials procurement and manufacturing services for these Products and assures W2E that it has the facilities, personnel, and technical expertise necessary to effectively and properly manufacture the Products.\\n\\nSHBV is willing to assure W2E that SHBV will produce the Products exclusively for W2E.\\n\\nIn consideration for the mutual promises, covenants, and agreements made below, the parties, intending to be legally bound, agree as follows:\\n\\n1. Definitions\\n\\nFor purposes of this Agreement, the following terms will have the indicated definitions: Agreement This Agreement is by and between W2E, W2EGH, W2EE, W2ETI and SHBV. Effective Date Date of execution of this agreement, or its schedules if executed at a later date.\\nEnd-User Any person or entity who ultimately obtains the Product as a result of a sale by or on behalf of W2E.\\n\\nExclusivity is a right that has a variable value based on the volume realised through Purchase Orders under this agreement for SHBV to accept such Purchase Orders for all W2e Products\\n\\nSHBV (HONG KONG) Ltd. and Waste2energy Group Holdings Plc\\n\\n1\\n\\n\\nthat may be procured within agreed Territories over the term of the agreement and shall be qualified over the term of the agreement subject to the provisions within Schedule 2 of this Manufacturing Agreement.\\n\\nExclusivity Formula and Volume Rebate are inextricably linked and shall be mutually agreed against a proposed forecast pursuant as detailed in schedule 1.\\n\\nInformation The documentation, technical information and/or business information, either oral or written that W2E or SHBV furnishes to the other marked as proprietary or confidential or simply treated as such by the disclosing party. The Information includes research, development or business activities, including any unannounced Products and services, as well as any information relating to services, developments, services, processes, plans, financial information, customer and supplier lists, forecasts and projections. Information shall also include the terms of this Agreement. A partys information shall be deemed confidential under this Agreement unless the information (i) is in the public domain through no act of the other party; (ii) is lawfully known by the other party from a source other than the first party with no restriction of confidentiality; or (iii) must be disclosed by requirement of law or generally accepted accounting principles.\\n\\nIntellectual Property Rights The intangible legal rights or interests evidenced by or embodied in any idea, design, concept, technique, invention, discovery, or improvement regardless of patentability, but including patents, patent applications, trade secrets and know-how; any work of authorship, regardless of copyright-ability, but including copyrights and any moral rights recognized by law; and any other similar rights, in each case on a worldwide basis.\\n\\nProduct(s) The W2E Proprietary Technology Products have been developed or are owned by W2E, along with all options to the Products; all future versions of the Products; and all enhancements, revisions, derivative works and/or modifications made to the Products by W2E. There are three brand names for W2E Proprietary Technology Products: sBOS, cBOS and COR that may be increased or changed in the future either through development or technology acquisition. For the purposes of this manufacturing agreement, the term Products means either a complete assembly or a sub-assembly or a part of a sub- assembly of any of the W2E Proprietary Technology Range under existing or future brand names. Any fabricated steel part under this Agreement shall be referenced by a W2E drawing number and a completed drawing for manufacture by W2E. Full manufacturing specifications and drawings will be issued prior to manufacture of any part, a schedule of which shall be maintained by both Parties and agreed to for future production quotas\\n\\nQuota Specified minimum quantities of the Products as set forth in Schedule A (attached to the end of this Agreement).\\n\\nTerm The duration of this Agreement is established in accordance with Section 2 hereof.\\n\\n2\\n\\n\\nTerritory The world with the exception of Italy, Brazil, Canada and any other mutually agreed exceptions\\n\\nTrademarks The Trademarks specified in Exhibit A (attached to the end of this Agreement).\\n\\n2. Term\\n\\nThis Agreement shall commence on the Effective Date above and shall terminate ten (10) years from the Effective Date, unless (i) it is extended pursuant to an option being granted herein to W2E to extend this Agreement for an additional term of (5) years, in its discretion; or (ii) it terminates sooner according to the provisions of this Agreement. Anything to the contrary herein notwithstanding, the Parties may renew this Agreement in writing upon mutual Agreement.\\n\\n3. Relationship\\n\\n3.1 Exclusive Territory Manufacturer\\n\\nSubject to the limitations set forth in Section 4 herein, W2E grants SHBV, and SHBV accepts from W2E, for the Term of this Agreement, an irrevocable and non-transferable right and license to manufacture the Products exclusively for W2E for use in the Territory and to deliver finished Products ready to be shipped as directed by W2E to W2E and/or its End-Users as set forth in orders for the Products..\\n\\n3.2 Use of Trademarks and Trade Names\\n\\nNo right, title or interest in or to any Trademarks, trade names, slogans, labels and designs used by either W2E or SHBV, nor the goodwill connected thereto, is conveyed by this Agreement.\\n\\n3.3 Joint and Several Assumptions\\n\\nAll representations, warranties, undertakings, agreements, covenants, indemnities and obligations made or given or entered into by W2E (or each of W2EGH, W2EE and W2ETI) under this Agreement and all rights, benefits, causes of action and any other entitlements of W2E (or any of W2EGH, W2EE or W2ETI) under or arising out of the Agreement are assumed by W2EGH, W2EE and W2ETI jointly and severally. Any act by or notice given by or event that occurs in relation to any one of such companies comprising W2E shall be deemed to be an act by or notice given by or event occurring in relation to all such companies comprising W2E. Save as expressly stated otherwise in any order, the giving of any notice under or in connection with this Agreement by any of W2EGH, W2EE or W2ETI in respect of W2E shall be deemed to be the giving of notice in respect of all of the companies comprising W2E.\\n\\n3\\n\\n\\n4. Manufacturers Rights and Responsibilities\\n\\nIn recognition of the investment to be made by SHBV for the exclusive right to manufacture the Products for use in the Territory, the parties agree to each of the following provisions:\\n\\n4.1 Exclusivity and Related Consideration.\\n\\n4.1.1 As consideration for the exclusive right to manufacture the Products for use in the Territory, SHBV agrees to pay to W2E the amounts set forth on Schedule 2 hereto.\\n\\n4.1.2 W2E hereby grants SHBV the exclusive right to manufacture the Products for use in the Territory, subject to the limitations set forth below.\\n\\n4.1.3 The exclusive nature of the rights and licences granted pursuant to Sections 3.1 and 4.1.2 shall not apply where:\\n\\n(a) an End-User is entitled to force W2E to use an alternative supplier in relation to a specific order pursuant to the terms of the agreement between the End-User and W2E; and\\n\\n(b) W2Es refusal to use an alternative supplier would put W2E in breach of such agreement with the End- User.\\n\\nW2E shall take all steps reasonably practicable and within its control to prevent an End-User being entitled to force W2E to use an alternative supplier. In the event of such a request by an End-User, W2E shall liaise and co-operate with SHBV throughout and SHBV and W2E shall each use reasonable endeavours to take such steps and implement such proposals as may be reasonably practicable without entailing additional cost or expense for either Party to seek to prevent the End-Users right to require the use of an alternative supplier becoming effective.\\n\\n4.1.5 It is an essential part of this Agreement that the payment of the consideration for the exclusive rights set out in Schedule 2 to this agreement is based on W2E achieving the specified minimum Quota set out in Schedule 1 to this Agreement. Should in any year of operation of this Agreement W2E fail to achieve all or part of the said Quota, it shall within 90 days from the end of that year, or from letter of demand, whichever the latter, repay SHBV the proportion of the above consideration in the amount corresponding to the percentage of the shortfall of the Quota.\\n\\n4.1.6 Prior to any payments by SHBV to W2E of the consideration under Schedule 2 to this Agreement W2E shall provide SHBV with an acceptable Parent Company Guarantee which shall act as a security for the agreed amount of the consideration to be paid by SHBV. The above guarantee shall at all times cover the agreed amount potentially repayable to SHBV under Clause\\n\\n4\\n\\n\\n4.2 Modifications\\n\\nSHBV shall have no right, unless agreed to in writing by W2E, to modify W2Es Products and may not combine such Products with other products or material to form derivative works. All rights in improvements made by W2E and/or SHBV shall be held exclusively by W2E; SHBV may not use, reproduce or distribute W2Es Products or derivative works in any manner except as otherwise expressly provided under this Agreement.\\n\\n4.3 Other Products\\n\\nSHBV shall not produce or sell to any third parties or utilize any of the Products being fabricated for W2E in any Products purchased from SHBV by third parties, unrelated to this Agreement, without the prior written consent of W2E.\\n\\n4.4 Reports\\n\\n4.4.1 SHBV shall deliver to W2E no later than fifteen (15) days after the end of each month during the term of this Agreement and for fifteen (15) days thereafter, a written report showing for the preceding month any relevant information from the prior month, as agreed from time to time with W2E. SHBV shall cooperate with W2E to make the format of its monthly records compatible with W2Es record-keeping system.\\n\\n4.4.2.\\tDuring the Term, W2E shall give SHBV not less than 5 Business Days before the beginning of each quarter, a forecast of the Products and services it expects to purchase during the twelve months following that month. The first forecast shall be supplied on the Effective Date. W2E shall act in good faith when forecasting its requirements for Products. Forecasts provided under this 4.4.2 shall not constitute orders. If SHBV anticipates that it will be unable to meet W2Es forecasted requirements provided in accordance with this Clause 4.4.2, SHBV shall inform W2E in writing as soon as possible.\\n\\n4.5 Compliance with Laws\\n\\nSHBV shall comply with applicable laws, ordinances and regulations relating to the sale of the Products as well as the manufacture of the Products.\\n\\n5. SHBVS Responsibilities\\n\\n5.1 In consideration of W2E performing its obligations under this Agreement, SHBV shall regularly and diligently carry out and complete the manufacture and supply of the Products and provide the services.\\n\\n5\\n\\n\\n5.1.1 All Products and services provided by SHBV shall be manufactured and carried out with sound workmanship and materials, safely and in accordance with good engineering practice and applicable law.\\n\\n5.1.2 SHBV shall at all times have and maintain adequate resources available for the proper and timely provision of the Products and the services, including financial resources, and competent, appropriately experienced and physically capable staff and labour whether employed by SHBV or any third parties appointed by SHBV in respect of its obligations under this Agreement.\\n\\n5.1.3. SHBV shall obtain and maintain in force for the Term all licenses, permissions, authorizations, consents and permits needed to supply the Products and services in accordance with the terms of this Agreement.\\n\\n5.2 Implementation of Enhancements\\n\\nW2E shall cooperate with SHBV in evaluating, reviewing, and aggressively implementing enhancements and refinements to the Products.\\n\\n5.3 Technical Support\\n\\nW2E shall provide the following technical support during its normal business hours:\\n\\n* engineering support in relation to technical drawings for W2Es Product at no charge to SHBVs engineering personnel in the form of telephone consultation, and\\n\\n* field support at no charge to SHBVs field engineering personnel in the form of telephone consultation.\\n\\n6. W2Es Rights\\n\\n6.1 W2E and its End-User, as the case may be, shall have the right to enter SHBVs premises to inspect the Products and SHBV shall seek to facilitate inspection of any manufacturing facilities owned by sub-contractors to SHBV for the Products. Inspections carried out pursuant to this Section 6.1 shall be carried out during business hours on reasonable notice to SHBV. If following any inspection, W2E reasonably considers that the Products are not or are not likely to be as provided in accordance with the terms of this Agreement, W2E shall inform SHBV and SHBV shall take such action as is necessary to ensure that the Products are or will be as provided under the terms of this Agreement. W2E shall have the right to re-conduct inspections after SHBV has carried out its remedial actions.\\n\\n6\\n\\n\\n6.2 In relation to any defects in materials and workmanship under this Section, SHBV shall have a 12 month defects notification period from the deliver date in which to repair any defects in materials and workmanship notified by W2E to SHBV which shall be the sole remedy of W2E for such defects. If during such defects notification period W2E gives notice of a defect (setting out the particulars of such alleged defect), SHBV shall as soon as reasonably practicable make good the defect so notified and W2E shall so far as may be necessary place the Products at SHBVs disposal for this purpose.\\n\\n6.3 If a defect noticed by W2E pursuant to this Agreement arises from any breach by SHBV of this Agreement, SHBV shall bear its own cost of making good such defect. If SHBV fails to remedy a defect noticed pursuant to this Agreement which arises from any breach by SHBV of this Agreement, then W2E may, on giving not less than 14 days written notice to SHBV, procure the rectification of such defect by a third party.\\n\\n7. Purchase Orders\\n\\n7.1 Manufacturing Orders\\n\\nAll orders shall be in writing and shall specify: (i) this Agreement; (ii) the quantity and description of the Products; (iii) the requested delivery dates and applicable price; and (iv) any special instructions. All orders shall be governed by the terms and conditions of this Agreement and shall be binding upon confirmation of receipt and acceptance by SHBV.\\n\\n7.2 Controlling Terms\\n\\nThe terms and conditions of this Agreement shall apply to each order that becomes binding on the Parties under this Agreement unless both parties expressly agree in a separate writing to be bound by such separate or additional terms and conditions.\\n\\n7.3 Cancellation of Orders\\n\\nW2E may within 180 days of placing an order amend or cancel an order by written notice to SHBV. If W2E amends or cancels an order, and the order is for a standard Product, W2E has the right to substitute another order for the order being cancelled without penalty. In the event the cancellation is for a non- standard Product, W2Es liability to SHBV shall be limited to payment to SHBV of the costs reasonably incurred by SHBV including sub-contractors or third party costs plus a mark up of 25% of such costs in fulfilling the order up and until the date of receipt of the amendment or cancellation.\\n\\n7\\n\\n\\n7.4 Manufacturer Cancellation\\n\\nSHBV reserves the right to cancel or suspend any orders placed by W2E and accepted by SHBV, or refuse or delay shipment thereof, if W2E fails (1) to make any payment as provided in this Agreement or in any order placed by W2E; (2) to meet credit or financial requirements established by SHBV; or (3) otherwise to comply with the terms and conditions of this Agreement.\\n\\n7.5 Rescheduling of Delivery\\n\\nAt no charge, W2E may at any time with at least fifteen (15) days prior written notice to SHBV, reschedule and extend for up to fifteen (15) days the delivery of any Products. Further extensions to be subject to agreement of SHBV.\\n\\n7.6 Acceptance Tests\\n\\nSHBV shall formulate, subject to W2Es approval, Acceptance Test Procedures. W2E has the right to conduct acceptance tests on any of the Products and may reject those that fail to pass that test. Such rejection shall be evidenced by notice of rejection to SHBV, together with an indication of the basis for that rejection. W2E shall have no obligations with respect to any Products properly rejected by it pursuant to this Agreement.\\n\\n8. Payment\\n\\n8.1 Payment\\n\\nW2E shall pay for Products from each order by order on a draw down basis as determined between the Parties at the time of each order.\\n\\n8.2 Freight Charges\\n\\nSHBV shall pay initially the cost of freight and any taxes, levies, duties or fees of any kind, nature or description whatsoever applicable to the delivery of raw materials or bought in items to SHBVs fabrication facilities and W2E shall reimburse SHBV for all such sums within the final payments for finished products. Freight charges will be agreed and recorded on an open book basis where W2E has the right to examine the costs of freight and where it is deemed to be uncompetitive to seek a change in the terms of freight on a competitive tendering basis.\\n\\n8\\n\\n\\n8.3 Manufacturers Financial Condition\\n\\nSHBV represents and warrants that it is and at all times during the term of this Agreement shall remain in good financial condition, solvent and able to pay its bills when due. SHBV shall maintain and employ in connection with SHBVs business under this Agreement such working capital and net worth as may be required in the reasonable opinion of W2E to enable SHBV to carry out and perform all of SHBVs obligations and responsibilities under this Agreement. From time to time, on reasonable notice by W2E, SHBV shall furnish financial reports as necessary to determine SHBVs financial condition. W2E shall have the right to change its financial requirements at any time.\\n\\n9. Shipment, Risk of Loss and Delivery.\\n\\n9.1 Risk of Loss\\n\\nExcept as provided below, title to the Products purchased pursuant to this Agreement will pass upon the earlier of delivery to W2E or to a W2E End-User or payment. When contractually responsible for freight SHBV assumes the risk of loss and damage of the Products in transit from SHBVs shipping point to the point of destination.\\n\\n9.2 Shipment\\n\\nThe Parties agree to collaborate on finding the most economical fully insured shipping channel for the Product on a draw down order by order basis and in so doing to use an open book pricing procedure at cost for any and all shipping requirements either intergroup by SHBV or to a destination required by W2E.\\n\\nShipping costs are variable and fluctuate day to day and over the course of the Agreement are likely to be a major factor in the overall economic competitiveness of this Agreement.\\n\\nSHBV has the right to fulfill the Agreement either from fabrication with the PRC or the UK.\\n\\n9.3 Insurance\\n\\n9.3.1 SHBV shall, during the term of this Agreement, maintain in force the following insurance policies with reputable insurance companies; (i) public liability insurance with a limit of at least U.S. $10 million per claim; (ii) professional indemnity insurance with a limit of at least U.S. $10 million in the aggregate; and (iii) product liability insurance with a limit of at least U.S. 10 million for claims arising from a single event or series of related events in a single calendar year, provided such insurance remains available in the European insurance market at commercially reasonable rates to parties carrying out business equivalent to that of SHBV.\\n\\n9\\n\\n\\n9.3.2 On the taking out and on renewing of each policy, SHBVs shall promptly send a copy of the receipt for the premium to W2E. Upon W2Es written request, SHBV shall provide it with copies of the insurance policy certificates and details of the coverage provided.\\n\\n9.3.3 SHBV shall ensure that any sub-contractors also maintain adequate insurance having regard to their obligations under their respective sub-contracts and SHBVs obligations under this Agreement.\\n\\n9.3.4 SHBV shall notify W2E if any policy is (or will be) cancelled, or its terms are (or will be) subject to any material change or such insurance is no longer available at commercially reasonable rates for the purpose of Section 9.3.1 hereof.\\n\\n9.3.5 SHBVs liabilities under this Agreement shall not be deemed to be released or limited by its taking out of the insurance policies referred to in Section 9.3.1 hereof\\n\\n9.4 Delivery Schedule and Delays\\n\\nAny penalties for late delivery will be negotiated and agreed on a contract by contract basis.\\n\\n10. Limited Warranty\\n\\n10.1 Warranty to W2Es End-Users\\n\\nSHBV hereby warrants to W2E and/or its End-Users, as the case may be, the following one (1) year limited warranty:\\n\\nFor one year after the date of shipment to End-User, SHBV will at its sole discretion, replace, repair or furnish credit for any Product purchased by End-User that has a defect in material or workmanship provided further that the Product has not been misused, improperly operated, or subject to unauthorized repairs or modifications. This provision does not extend the original warranty period of any Product that has been repaired or replaced by W2E.\\n\\n10.2 Manufacturer Duties\\n\\nSHBV agrees to honor all reasonable make good or replacement requests received by W2E and/or its End-Users pursuant to the terms of this Agreement pertaining to defective units. W2E shall instruct all of its End-Users to submit all replacement requests to W2E, to be forwarded to SHBV.\\n\\n10\\n\\n\\n10.3 Additional Protection\\n\\nIf, within any twelve (12) month period, ten (10%) percent or more of the Products, while within the warranty period specified in this Agreement, exhibit defects of the same kind and nature, particularly, without limitation, welded joints and such defects are the result of faulty workmanship on the part of SHBV or defects in materials arising from any cause for which SHBV is responsible, then SHBV agrees to render assistance, at SHBVs sole expense to W2E and/or its End-User as specified:\\n\\n* Delivery of replacement Products found to be defective to the place designated by W2E;\\n\\n* Field service for the replacement or repair of such defective Products or reimbursement to W2E of W2Es labor costs in replacing such defective Products at such rates as may be mutually agreed upon from time to time;.\\n\\nThe warranty provided in this section shall be subject to SHBVs satisfaction of the following conditions:\\n\\n* The specifies concerning the failure of the Products alleged or found to be defective shall be furnished to SHBV in writing within six (6) weeks of discovery by W2E of such defect;\\n\\n* The defects so specified shall be subject to SHBVs verification;\\n\\n* No Products alleged or found to be defective shall be disposed of by W2E for at least eight\\n(8) weeks after SHBV receives the written details concerning such defects; and\\n\\n* Such defective Products shall forthwith be returned to SHBV by W2E, freight payable at destination, if SHBV so requests.\\n\\n10.4 Notice Requirements\\n\\nW2E shall advise SHBV in writing of all warranty claims within thirty (30) business days of receipt of such claims from its End Users.\\n\\n10.5 Product Liability\\n\\n10.5.1 Indemnification\\n\\nSHBV shall indemnify and hold harmless W2E for damages or expenses resulting from any claim, suit or proceeding brought against W2E on the issue of SHBV designed and owned product. W2E agrees that SHBV has the right to defend, or at its option to settle, and SHBV agrees, at its own expense, to defend or at its option to settle, any claim, suit or proceeding brought against W2E on the issue of SHBV designed and owned product, subject to the\\n\\n11\\n\\n\\nlimitations set forth in this Agreement. SHBV shall have sole control of any such action or settlement negotiations, and SHBV agrees to pay, subject to the limitations of this Agreement, any final judgment entered against W2E on such issue in any such suit or proceeding defended by SHBV.\\n\\nW2E agrees that SHBV shall be relieved of the foregoing obligations unless W2E notifies SHBV promptly in writing of such claim, suit or proceeding and gives SHBV authority to proceed as contemplated herein, and, at W2Es expense, gives SHBV proper and full information and assistance to settle and/or defend any such claim, suit or proceeding.\\n\\n10.5.2 Limitations of Liability\\n\\n10.5.2.1 Except for claims under Section 14 for which liability shall be unlimited, this Section sets out the financial liability of the Parties (including any liability for the acts or omissions of their respective employees, agents and subcontractors) to each other in respect of: (i) any breach of this Agreement or any order including any deliberate breach of this Agreement or any order by a Party, or its employees, agents or subcontractors; (ii) any use made or resale of the Products by W2E, or of any products incorporating any of the Product parts; and (iii) any representation, statement or tortuous act or omission (including negligence) arising under or in connection with this Agreement.\\n\\n10.5.2.2 Nothing in this Agreement shall limit or exclude the liability of either Party for: (i) death or personal injury resulting from negligence; or (ii) fraud or fraudulent misrepresentation; or (iii) breach of the terms implied by Section 12 of the Sale of Goods Act of 1979; or (iv) breach of Section 2 of the Consumer Protection Act of 1987\\n\\n10.5.2.3 Without prejudice of Section 10.5.2.1, neither Party shall be liable to the other, whether in contract, tort (including negligence) or restitution or for breach of statutory duty or misrepresentation or other for any: (i) loss or corruption of data or information; or (ii) special, indirect or consequential damage suffered by the other Party that arises under or in connection with this Agreement.\\n\\n11. Ownership, Warranty and Indemnification\\n\\n11.1 W2E Ownership Warranty\\n\\nW2E represents and warrants to SHBV that: (i) the Products do not infringe upon any patent, copyright, trade secret or other proprietary rights of others; (ii) W2E has full power and authority to grant the rights granted within this Agreement to SHBV; and (iii) W2E has not previously or otherwise granted any other rights in the Products to any third party that conflict with the rights in this Agreement granted to SHBV.\\n\\n12\\n\\n\\n11.2 Indemnification\\n\\nW2E agrees to defend at its expense and hold SHBV harmless from any claim, demand, or suit against SHBV resulting from a breach of any of the warranties set forth above in Section 11.1 and to pay any costs, damages, or expenses (including attorneys fees) arising from any such claim, demand, or suit. W2E shall have sole control of the defense of such action and all negotiations for its compromise or settlement. SHBV shall timely notify W2E in writing of any such claim, demand, or suit, and, at W2Es request and expense, provide W2E with all available information, assistance and authority to enable W2E to defend the same.\\nW2E shall indemnify SHBV for all such costs, damages, and expenses as they are incurred.\\n\\n11.3 Continued Use\\n\\nFollowing notice of a claim or demand or a threatened or actual suit, W2E shall immediately, at its own expense, use its reasonable efforts to procure for SHBV the right to continue the use of the Products subject to such claim, demand or suit, or, having failed to obtain such right, replace or modify such Products to make them non-infringing. If SHBV elects to replace or modify any of the Products, such replacement or modification shall substantially meet the performance and interface specifications of the replaced or modified Products.\\n\\n11.4 Survival of Warranties\\n\\nThe warranties and indemnities stated in this Section 11 shall survive the expiration or termination of this Agreement.\\n\\n12. Limitation of Liability\\n\\n12.1 Limitation of Liability\\n\\nThe warranties contained in Sections 11 above are in lieu of all other warranties and conditions expressed or implied, including, but not limited to, those governing merchantability or fitness for a particular purpose. In the event that, despite Section 11, W2E is found liable for damages based upon any defect of nonconformity in the Products, its total liability for each defective Product shall not exceed the discounted price of such defective Product.\\n\\n13. Termination\\n\\n13.1.1 Termination Events\\n\\nSubject to Section 13.1.4 below, a Party shall be entitled to terminate this Agreement and all orders which have not been completed if the other Party (i) fails to pay any undisputed amount due under this Agreement on the due date for payment; or (ii) commits a material beach of its\\n\\n13\\n\\n\\nobligations under this Agreement; or (iii) passes a resolution for voluntary winding up or a court of competent jurisdiction makes an order that such Party be wound up except for the purposes of bona fide reconstruction while solvent; or (iv) makes a composition or arrangement with its creditors; or (v) has a receiver or manager or provisional liquidator or administrator appointed over the whole or a substantial part of its business or undertaking or circumstances arise which would entitle a court of competent jurisdiction or a creditor to appoint the same; or (vi) is unable to pay its debts within the meaning of Section 123 of the Insolvency Act of 1986; or (vii) any Force Majeure Event prevents the other Party from performing its obligations under this Agreement for a continuous period of six months.\\n\\n13.1.2 Termination of this Agreement shall not prejudice any of the Parties rights and remedies which have accrued as at termination.\\n\\n13.1.3 In the event that W2E does not purchase the Minimum Purchase Order each year as defined in Schedule A SHBV may also terminate this Agreement.\\n\\n13.1.4 In the event of the occurrence of one of the grounds set forth in Sections 13.1.1 (i) or 13.1.1(ii) or unless specifically provided otherwise in this Agreement, (i) the affected Party shall give the defaulting Party not less than ten (10) business days notice of the occurrence of the event; (ii) the defaulting Party shall within a further ten (10) business days from the expiration of the period referred to in\\nSection 13.1.4(i) remedy the default; and (iii) in the event that the default is not remedied within the period referred to in Section 13.1.4(ii) or their remains a dispute as to whether a default has occurred, the Parties shall refer the matter to non-binding mediation in accordance with the then current CEDR Model Mediation Procedure or such other procedure as is agreed between the parties within thirty (30) days thereafter and termination on such grounds shall not be effective until such time as the conditions set out in this\\nSection 13.4 shall have been satisfied and complied with and the relevant default remains unremedied.\\n\\n13.1.5 Termination on the grounds set forth in Section 13.1.1 (iii), 13.1.1 (iv), 13.1.1 (v), 13.1.1 (vi) and\\n13.1.1 (vii) shall be effective immediately on a Party having given notice to the other.\\n\\n13.2 Fulfillment of Obligations\\n\\nThe termination of this Agreement shall not otherwise release either party from its obligation to pay any sum that may be then or thereafter owing to the other party nor operate to discharge any liability that had been incurred by either party prior to any such termination. Except as qualified by the preceding sentence, neither party shall, by reason of the termination of this Agreement, be liable to the other for any damages (whether direct, consequential or incidental to and including loss of profit or prospective profits of any kind) sustained or arising out of any such termination.\\n\\n14\\n\\n\\n13.3 Effect of Termination and Survival\\n\\nUpon termination of this Agreement, SHBV shall discontinue all further promotion and marketing of the Products. Without limiting the generality of the foregoing, SHBV shall cease all advertising, if any and use of all W2E names, trademarks, logos, and designations and will not thereafter use, advertise, or display any such names, trademarks, logos, or designations. Upon termination of this Agreement, the due date of all outstanding invoices for the Products shall automatically be accelerated and all such invoices shall become due and payable. All orders or portions remaining unshipped as of the effective date of termination may be canceled by W2E, at its option, to the extent they call for delivery more than one hundred eighty (180) days after the date of termination. Upon termination of this Agreement, W2E shall have the option, exercisable at any time in its discretion, to repurchase some or all of the entire remaining uncommitted inventory of the Products held by SHBV. W2E shall pay SHBV for all Products so repurchased an amount equal to the discounted price paid by W2E to SHBV. Upon receipt of any Products so reacquired from SHBV, W2E shall issue an appropriate credit to SHBVs account. Despite any termination of this Agreement, the provisions in Sections 5.4, 7.4 through 7.6, and 8 through 13 shall remain in full force and effect.\\n\\n14. Confidential Information, Trademarks and Intellectual Property Rights\\n\\n14.1 Confidentiality Regarding Proprietary Information; Retention of Property; Contract\\n\\nEach party acknowledges that it may be furnished with or may otherwise receive or have access to information or material that relates to past, present or future Products, data, designs, development, inventions, letters, notes, media, original artwork, creative notebooks, research, software, techniques or technical information and, including various trade secrets like accounts, customer lists and information, inventions, innovations, methods, marketing plans, pricing structure, payment histories, Production processes, records, and specifications. (The Proprietary Information). Each party agrees to preserve and protect the confidentiality of the Proprietary Information and all of its physical forms, whether disclosed to the other party before this Agreement is signed or afterward.\\n\\nBoth parties agree that neither will disclose or disseminate any such Proprietary Information or trade secret information, directly or indirectly, or use any such information, for any purpose except for the furtherance of the business contemplated by this Agreement.\\n\\nWithin three (3) days after the termination of this Agreement (or any other time at the other partys request), a party shall return to the other party all such Proprietary Information that are in their possession or under their control. Despite any other provisions of this Agreement, the requirements of this\\nSection shall survive termination of this Agreement.\\n\\n15\\n\\n\\nThe parties agree to preserve the confidentiality of the terms of this Agreement while it is in effect, and thereafter. They may disclose its terms only to their attorneys, or tax preparers, and then only on the condition that the attorneys, or tax preparers agree to preserve the confidentiality of this contract.\\n\\n14.2 Protection of Information\\n\\nEach party acknowledges that the Information is proprietary to the other party and has been developed as a trade secret at their expense. Each party agrees that it will exercise the same efforts to hold and use such Information in confidence (except as otherwise permitted by this Agreement) as it uses to protect its own most confidential business information.\\n\\nThe previously stated obligations do not apply to any information that (1) is publicly known; (2) is given to a party by someone else who is not obligated to maintain confidentiality; or (3) a party had already developed prior to the day this Agreement is signed, as evidenced by documents. Neither party shall retain, take or cause to be taken any physical forms of Proprietary Information (nor make copies of same) without the other partys written permission.\\n\\n14.3 Right to Injunction\\n\\nIf any party shall attempt to use or dispose of any Information or any of its aspects or components or any duplication or modification thereof in a manner contrary to the terms of this Section, the other -party shall have the right, without the necessity of filing a bond or other security, in addition to such other remedies that may be available to it, to injunctive relief enjoining such acts or attempts, it being acknowledged that legal remedies are inadequate.\\n\\n14.4 Press Releases\\n\\nNo press releases or other like publicity or advertising of any nature regarding this Agreement that mentions this Agreement or the other party by name shall be released by a party without the prior written Agreement of the other party.\\n\\n14.5 Trademarks\\n\\nW2E shall have and retain sole ownership of the Trademarks, including the goodwill pertaining thereto. Subject to SHBVs compliance with the terms of this Agreement, , W2E hereby grants to SHBV the right to use and display the Trademarks solely in connection with and solely to the extent reasonably necessary for the marketing, Manufacturing, and support of the Products within the Territory according to the terms and conditions of this Agreement. SHBV shall market, distribute, and support the Products only under the Trademarks, and not any other trademark or logo. SHBV shall not use the Trademarks or any other trademarks or trade names of W2E or any word, symbol, or design confusingly similar thereto, as part of its corporate name, or as part of\\n\\n16\\n\\n\\nthe name of any Product of SHBV. SHBV shall not remove or alter the Products copyright notices, trademarks. To protect and preserve the goodwill and image of the Products, SHBV shall (1) conduct business in a manner that reflects favorably at all times on the Products and the reputation of W2E;\\n(2) avoid deceptive, misleading, or unethical practices that are or might be detrimental to W2E, the Products or the public, including any disparagement of W2E or the Products; (3) make no false or misleading representations with regard to W2E or the Products; (4) refrain from publishing or employing any misleading or deceptive advertising material; and (5) refrain from making any representations, warranties, or guarantees to the trade with respect to the specifications, features, or capabilities of the Products that are inconsistent with the literature distributed by W2E, including all warranties and disclaimers contained in such literature.\\n\\n14.6 No Copying\\n\\nWithout the prior written consent of W2E, SHBV shall refrain from copying, reverse engineering, disassembling, decompiling, translating, or modifying the Products, or granting any other person or entity any right to do so.\\n\\n14.7 Notification\\n\\nSHBV shall promptly notify W2E of (1) any claims, allegations, or notification that its marketing, licensing, support, or service of the Products may or will infringe the Intellectual Property Rights of any other person or entity; and (2) any determination, discovery, or notification that any person or entity is or may be infringing the Intellectual Property Rights of W2E. SHBV shall not take any legal action relating to the protection of any Intellectual Property Rights pertaining to the Products without the prior written approval of W2E. SHBV shall assist in the protection of such Intellectual Property Rights.\\n\\n14.8 Infringement\\n\\n14.8.1 If notified promptly in writing of and given sole control of the defense and all related negotiations and settlements, W2E shall defend SHBV against any claim based on an allegation that a Product supplied under this Agreement infringes any United States Intellectual Property Rights. W2E shall pay any resulting costs, damages, and attorney fees finally awarded by a court with respect to any such claims.\\n\\n14.8.2 If the Products in the inventory of SHBV, or the Manufacturing or use thereof, become, or in W2Es opinion could seriously be contended to be, the subject of such a claim, and if W2E cannot offer reasonable proof that such claim is without merit, SHBV shall permit W2E, at W2Es option and expense, either to procure the right for SHBV to continue marketing and using such Products, or to replace or modify them so that they become non-infringing. If neither of the foregoing alternatives is available on terms that W2E in its sole discretion deems reasonable, SHBV shall return such Products on written request from W2E, in which event W2E shall grant\\n\\n17\\n\\n\\nSHBV a credit equal to the amounts paid by SHBV for such returned Products, provided that such returned Products are in an undamaged condition.\\n\\n14.8.3 Despite any other provision of this Section 9.5, W2E shall not be liable to SHBV for any claim arising from or based upon the combination, operation, or use of any Product with equipment, data, or programming not supplied by W2E, or arising from any alteration or modification of Products.\\n\\n14.8.4 W2E shall have no obligation to SHBV with respect to any infringement involving or concerning the Products except as stated in this Section 13.8.\\n\\n15. General Provisions\\n\\n15.1 Independent Contractors. The relationship between both parties established by this Agreement is that of independent contractors, and nothing contained in this Agreement shall be construed to give either party the power to direct and control the day-to-day activities of the other. Neither party is an agent, representative or partner of the other party. Neither party shall have any right, power or authority to enter into any agreement for, or on behalf of, or incur any obligation or liability of, or to otherwise bind, the other party. This Agreement shall not be interpreted or construed to create an association, agency, joint venture or partnership between the parties or to impose any liability attributable to such relationship upon either party.\\n\\n15.2 Governing Law and Jurisdiction. This agreement and the parties actions under this Agreement shall be governed by and construed under English Law and the Parties submit to the jurisdiction of the courts of England and Wales, without reference to conflict of law principles. Each party hereby irrevocably consents to the service of process in any such action or proceeding by the mailing of copies thereof by registered or certified mail, postage prepaid, to such party at its address set forth in the preamble of this Agreement, or by fax which is automatically confirmed by the senders fax machine to have been sent without error to the recipients fax number, such service to become effective five 55) days after such mailing or the next business day after confirmation by fax receipt.\\n\\n15.3 Entire Agreement. This Agreement, including the any orders instructed under it, attached schedules and exhibits, documents or other agreements referred to or referenced in this Agreement, constitutes the entire Agreement between both parties concerning this transaction, and replaces all previous communications, representations, understandings, and Agreements, whether verbal or written between the parties to this Agreement or their representatives. No representations or statements of any kind made by either party, which are not expressly staled in this Agreement, shall be binding on such parties.\\n\\nAny changes to this Agreement must be in writing and signed by the party against whom that writing is to be used,\\n\\n18\\n\\n\\nSchedules 1, 2 and A constitute integral parts of this Agreement. This agreement does not come into effect until such time that the parties have agreed and signed the above Schedules. Should Schedules I, 2 or A be not duly agreed and signed by the parties at the time of execution of this Agreement, the Effective Date of this Agreement shall be the date of the execution of the Schedule executed last.\\n\\n15.4 All Amendments in Writing. No waiver, amendment or modification of any provisions of this Agreement shall be effective unless in writing and signed by a duly authorized representative of the party against whom such waiver, amendment or modification is sought to be enforced. Furthermore, no provisions in either partys purchase orders, or in any other business forms employed by either party will supersede the terms and conditions of this Agreement.\\n\\nAll notices between the parties must be in writing and either delivered in person or by certified or registered mail, return receipt requested.\\n\\n15.5 Notices. All notices required or permitted under this Agreement shall be in writing and shall be given by delivering such notice or mailing such notice by pre-paid registered mail to the addresses first set forth above or by facsimile transmission to the facsimile number set forth below each parties respective name on the signature page hereof. Any such notice or other communication shall, if delivered, be deemed to have been given or made and received on the date delivered (or the next business day if the day of delivery is not a business day), and if mailed, shall be deemed to have been given or made and received on the fifth business day following the day on which it was so mailed and if faxed (with confirmation received) shall be deemed to have been given or made and received on the day on which it was so faxed (or the next business day if the day of sending is not a business day). The parties may give from time to time written notice of change of address in the manner aforesaid.\\n\\n15.6 Inadequate Legal Remedy. Both parties understand and acknowledge that violation of their respective covenants and Agreements may cause the other irreparable harm and damage, that may not be recovered at law, and each agrees that the others remedies for breach may be in equity by way of injunctive relief, as well as for damages and any other relief available to the non-breaching party, whether in law or in equity.\\n\\n15.7. Dispute Resolution. If a dispute arises under this Agreement then the Parties will attempt to settle it by mediation in accordance with the Centre for Effective Dispute Resolution (CEDR)s Model Mediation Procedure and the following shall prevail in the event of a conflict with that procedure: (i) the mediation shall be conducted by a single mediator who shall be appointed by agreement in writing between the Parties or, if the Parties are unable to agree on the identity of the mediator within ten (10) business days of the date of the request that the Dispute be determined by a mediator, or if the mediator appointed is unable or unwilling to act, shall be appointed by the CEDR; (ii) the mediation shall be conducted in London and in the English language; (iii) the mediation shall be conducted in private and without prejudice to the\\n\\n19\\n\\n\\nrights of the Parties in any future proceedings; and (iv) the mediation shall be held within thirty (30) business days of the appointment of the mediator pursuant to this Section 15.7(i). Nothing in this Clause shall prejudice the right of either Party to (x) apply to a Court for interim relief to prevent the violation by a Party of any proprietary interest, or any breach of either Party[s obligations which could cause irreparable harm to the other Party; or (y) to bring proceedings intended to result in the enforcement of a settlement agreement or of a binding determination of a dispute between the parties.\\n\\n15.8 Delay is Not a Waiver. No failure or delay by either party in exercising any right, power or remedy under this Agreement, except as specifically provided in this Agreement, shall operate as a waiver of any such right, power or remedy.\\n\\n15.9 Force Majeure\\n\\n15.9.1 Neither Party (or any person acting on its behalf) shall have any liability or responsibility for failure to fulfill any obligation under this Agreement so long as and to the extent to which the fulfillment of such obligation is prevented, frustrated, hindered or delayed as a consequence of a Force Majeure Event, as that term is defined below.\\n\\n15.9.2 A party claiming the benefit of this provision shall as soon as reasonably practicable after the occurrence of a Force Majeure Event: (i) notify the other Party of the nature and extent of such Force Majeure Event; and (ii) use all reasonable endeavours to remove or reduce the effect of any such causes and resume performance under this Agreement as soon as feasible.\\n\\n15.9.3 For the purposes of this Agreement, a force majeure event means an event beyond the control of a Party (or any person acting on its behalf) or, if it could have been foreseen, was unavoidable, and includes, without limitation, acts of God, storms, floods, riots, fires, sabotage, civil commotion or civil unrest, interference by civil or military authorities, acts of war (declared or undeclared) or armed hostilities or other national or international calamity or one or more acts of terrorism or failure of energy sources (Force Majeure Event)\\n\\n15.10 Assignability and Binding Effect. Except as expressly set forth within this Agreement, neither party may transfer or assign, directly or indirectly, this Agreement or its rights and obligations hereunder without the express written permission of the other party, not to be unreasonably withheld; provided, however, that both parties shall have the right to assign or otherwise transfer this Agreement to any parent, subsidiary, affiliated entity or pursuant to any merger, consolidation or reorganization, provided that all such assignees and transferees agree in writing to be bound by the terms of this Agreement prior to such assignment or transfer. Subject to the foregoing, this Agreement shall be binding upon and inure to the benefit of the parties hereto, their successors and assigns.\\n\\n20\\n\\n\\n15.11 Certain Sections Invalid. If any provisions of this Agreement are held by a court of competent jurisdiction to be invalid under any applicable statute or rule of law, they are to that extent to be deemed omitted and the remaining provisions of this Agreement shall remain in full force and effect.\\n\\n15.12 Headings. The titles and headings of the various sections and sections in this Agreement are intended solely for convenience of reference and are not intended for any other purpose whatsoever, or to explain, modify or place any construction upon or on any of the provisions of this Agreement.\\n\\n15.13 Survival of Certain Provisions. The warranties and the indemnification and confidentiality obligations set forth in the Agreement shall survive the termination of the Agreement by either party for any reason.\\n\\nUnderstood, Agreed and Approved\\n\\nWe have carefully reviewed this contract and agree to and accept all of its terms and conditions. We are executing this Agreement as of the Effective Date above.\\n\\nSHBV (Hong Kong) Ltd\\n\\n\\n\\n\\n\\n\\nBy:\\t\\t\\t\\n\\n21\\n\\n\\n(Name and Title)\\n\\nFacsimile Number:\\tWitness\\n\\nWASTE2ENERGY GROUP HOLDINGS PLC,\\n\\n\\n\\n\\n\\n\\nBy: \\t\\t\\t\\nWitness\\n\\n(Name and Title) Facsimile Number:\\nWASTE2ENERGY ENGINEERING LIMITED\\n\\n\\n\\n\\n\\n\\nBy: \\t\\t\\t\\nWitness\\n\\n(Name and Title) Facsimile Number:\\nWASTE2ENERGY TECHNOLOGIES INTERNATIONAL LIMITED\\n\\n\\n\\n\\n\\n\\nBy: \\t\\t\\t\\nWitness\\n\\n(Name and Title) Facsimile Number:\\n22\\n\\n\\nWaste2energy Group Holdings Plc & SHBV (Hong Kong) Ltd.\\n\\nManufacturing Agreement Schedule 1 - Quota\\nThis manufacturing agreement is based upon an annual quota of Purchase Orders for the manufacture of W2e Products either in whole or in part based upon individually agreed Purchase Orders.\\n\\nIt is envisaged that a matrix of drawing numbers and quantities for the forecasted Purchase Orders will be developed through time and experience in the Agreement therefore this Schedule is a working document and subject to quarterly review in line with forecast revisions.\\n\\nHowever, the Cumulative Minimum Annual Orders shall not be less than $60M USD (Sixty Million USD) in any one of the ten years and for not less than a total of $600M USD (Six Hundred Million USD) for the total of the ten years compound unless agreed by written mutual consent.\\n\\n\\nWaste2energy Group Holdings Plc & SHBV (Hong Kong) Ltd.\\n\\nManufacturing Agreement\\n\\nSchedule 2 - Commercial and Terms of Payment\\n\\n1. W2e require and SHBV agree that W2e equipment will be manufactured in batches to be held in stock for draw down by W2e, the batch sizes to be determined as a number related to efficiency and economies of scale in manufacture.\\n\\n2. W2e require and SHBV agree that cost of manufacture is critical to the success of W2es sales strategies and therefore all efforts will be made to keep the costs of manufacturing to a minimum, it is envisaged that a reduction in manufacturing costs will be of the order of 20% of the last quoted price based on the ex works Newbie, when manufacturing at Chinese SHBV Facilities commence, every endeavour will be made mutually to realise this cost saving.\\n\\n3. W2e agree that subject to 4 and 5 above that a minimum annual value of orders will be maintained, this value to be agreed at the time of closing on 18th May 2010.\\n\\n4. A payment mechanism shall be put in place with formulas and mechanisms for payments against order draw down, work in progress, percentage of completion of individual units and delivery of bought in components all against a quality schedule and subject to specific mutually agreed Purchase Orders, as per specific Purchase Order.\\n\\n5. Both parties agree to collaborate on a design for manufacture to aid these objectives.\\n\\n6. Warranty and Latent Defects for the quality of manufacture of the equipment, components and parts will apply.\\n\\n7. There will be a consideration from SHBV to W2e for the agreement to manufacture this minimum annual volume of equipment as per Schedule 1 of the Manufacturing Agreement between SHBV and W2e:\\n\\nA) An initial payment of $1 Million USD payable within 30 days of 18th May 2010 for the right to exclusivity as per the agreement.\\n\\nB) A further second payment of $1 Million USD from SHBV within 60 days of 18th May 2010 against the right to exclusivity as per the agreement.\\n\\nC) A further payment in kind of the necessary replacement equipment for the Dargavel EfW facility to complete the waste heat recovery system subject to 10 below.\\n\\nD) The balance of an amount up to $5 Million USD from A) B) and C) above to be payable within 120 days of 18th May 2010 in the event of non conformance to point C) listed above.\\n\\nE) The further sum of not less than $5 Million USD shall be paid in equal instalments annually over the remaining term of the agreement within 30 days of 18th May subject to all other terms pertained within this document. This sum being calculated in accordance with the exclusivity formula.\\n\\nF) On the anniversary in years 4, 7 and 10 respectively there will be a review of the preceding 3 years trading period to ensure volume versus payments is in alignment with annual minimum production volumes to be agreed by 18th May 2010 with regard to the $8 Million USD referred to above.\\n\\n8. A Purchase Order will be placed on SHBV for the equipment referred to in 10 C) subject to a final agreed design and detailed proposal including specifications, operating parameters and pricing.\\n\\n9. W2e shall provide on or before closure of the agreement a duly signed parent company guarantee.\\n\\n10. Governing law for the agreements will be English Law.\\n\\n\\n', start_char_idx=None, end_char_idx=None, text_template='{metadata_str}\\n\\n{content}', metadata_template='{key}: {value}', metadata_seperator='\\n')]\n"
          ]
        }
      ]
    },
    {
      "cell_type": "code",
      "source": [
        "documents[0].metadata"
      ],
      "metadata": {
        "colab": {
          "base_uri": "https://localhost:8080/"
        },
        "id": "gMcKze2-NsW4",
        "outputId": "34e02c39-779d-4ec6-c3c6-138b5ec59712"
      },
      "execution_count": 15,
      "outputs": [
        {
          "output_type": "execute_result",
          "data": {
            "text/plain": [
              "{'file_path': 'my_data/Manufacturing Agreement 5.19.10 SHBV Waste2Energy.txt',\n",
              " 'file_name': 'Manufacturing Agreement 5.19.10 SHBV Waste2Energy.txt',\n",
              " 'file_type': 'text/plain',\n",
              " 'file_size': 56552,\n",
              " 'creation_date': '2023-12-19',\n",
              " 'last_modified_date': '2023-12-19',\n",
              " 'last_accessed_date': '2023-12-19'}"
            ]
          },
          "metadata": {},
          "execution_count": 15
        }
      ]
    },
    {
      "cell_type": "markdown",
      "source": [
        "# Step 3:  Node Parsing & Indexing (Base & Sentence Window Method)"
      ],
      "metadata": {
        "id": "Tc3xzNBuT_gT"
      }
    },
    {
      "cell_type": "code",
      "source": [
        "# create the sentence window node parser w/ default settings\n",
        "sentence_node_parser = SentenceWindowNodeParser.from_defaults(\n",
        "    window_size=3,\n",
        "    window_metadata_key=\"window\",\n",
        "    original_text_metadata_key=\"original_text\"\n",
        ")\n",
        "\n",
        "base_node_parser = SentenceSplitter()\n",
        "\n",
        "llm = OpenAI(model=\"gpt-4\", temperature=0.1)\n"
      ],
      "metadata": {
        "id": "YvFSRSdv2p5s",
        "colab": {
          "base_uri": "https://localhost:8080/"
        },
        "outputId": "f36b97b8-3673-4dc5-bd2f-93688adcc65b"
      },
      "execution_count": 16,
      "outputs": [
        {
          "output_type": "stream",
          "name": "stderr",
          "text": [
            "[nltk_data] Downloading package punkt to /tmp/llama_index...\n",
            "[nltk_data]   Unzipping tokenizers/punkt.zip.\n"
          ]
        }
      ]
    },
    {
      "cell_type": "code",
      "source": [
        "nodes = sentence_node_parser.get_nodes_from_documents(documents)\n",
        "base_nodes = base_node_parser.get_nodes_from_documents(documents)"
      ],
      "metadata": {
        "id": "NCFQbUWa4GjJ"
      },
      "execution_count": 17,
      "outputs": []
    },
    {
      "cell_type": "code",
      "source": [
        "ctx_sentence = ServiceContext.from_defaults(llm=llm, embed_model=OpenAIEmbedding(embed_batch_size=50), node_parser=sentence_node_parser)\n",
        "ctx_base = ServiceContext.from_defaults(llm=llm, embed_model=OpenAIEmbedding(embed_batch_size=50), node_parser=base_node_parser)\n",
        "\n",
        "sentence_index = VectorStoreIndex(nodes, service_context=ctx_sentence)\n",
        "base_index = VectorStoreIndex(base_nodes, service_context=ctx_base)"
      ],
      "metadata": {
        "id": "Wm9WzQAg28ES"
      },
      "execution_count": null,
      "outputs": []
    },
    {
      "cell_type": "markdown",
      "source": [
        "# Step 4:  Save to Persistent Storage"
      ],
      "metadata": {
        "id": "sPDclAWrUMUu"
      }
    },
    {
      "cell_type": "code",
      "source": [
        "sentence_index.storage_context.persist(persist_dir=\"./sentence_index\")\n",
        "base_index.storage_context.persist(persist_dir=\"./base_index\")\n"
      ],
      "metadata": {
        "id": "S8j1sdEgURxU"
      },
      "execution_count": null,
      "outputs": []
    },
    {
      "cell_type": "code",
      "source": [
        "# Download to own computer for backup\n",
        "\n",
        "!zip -r ./indexes.zip ./*_index\n",
        "\n",
        "from google.colab import files\n",
        "files.download(\"./indexes.zip\")"
      ],
      "metadata": {
        "colab": {
          "base_uri": "https://localhost:8080/",
          "height": 225
        },
        "id": "dtT99OEiUj6i",
        "outputId": "47062565-1b2d-41f7-a993-feabf7d44491"
      },
      "execution_count": null,
      "outputs": [
        {
          "output_type": "stream",
          "name": "stdout",
          "text": [
            "  adding: base_index/ (stored 0%)\n",
            "  adding: base_index/image__vector_store.json (deflated 19%)\n",
            "  adding: base_index/graph_store.json (stored 0%)\n",
            "  adding: base_index/index_store.json (deflated 68%)\n",
            "  adding: base_index/docstore.json (deflated 76%)\n",
            "  adding: base_index/default__vector_store.json (deflated 62%)\n",
            "  adding: sentence_index/ (stored 0%)\n",
            "  adding: sentence_index/image__vector_store.json (deflated 19%)\n",
            "  adding: sentence_index/graph_store.json (stored 0%)\n",
            "  adding: sentence_index/index_store.json (deflated 68%)\n",
            "  adding: sentence_index/docstore.json (deflated 94%)\n",
            "  adding: sentence_index/default__vector_store.json (deflated 63%)\n"
          ]
        },
        {
          "output_type": "display_data",
          "data": {
            "text/plain": [
              "<IPython.core.display.Javascript object>"
            ],
            "application/javascript": [
              "\n",
              "    async function download(id, filename, size) {\n",
              "      if (!google.colab.kernel.accessAllowed) {\n",
              "        return;\n",
              "      }\n",
              "      const div = document.createElement('div');\n",
              "      const label = document.createElement('label');\n",
              "      label.textContent = `Downloading \"${filename}\": `;\n",
              "      div.appendChild(label);\n",
              "      const progress = document.createElement('progress');\n",
              "      progress.max = size;\n",
              "      div.appendChild(progress);\n",
              "      document.body.appendChild(div);\n",
              "\n",
              "      const buffers = [];\n",
              "      let downloaded = 0;\n",
              "\n",
              "      const channel = await google.colab.kernel.comms.open(id);\n",
              "      // Send a message to notify the kernel that we're ready.\n",
              "      channel.send({})\n",
              "\n",
              "      for await (const message of channel.messages) {\n",
              "        // Send a message to notify the kernel that we're ready.\n",
              "        channel.send({})\n",
              "        if (message.buffers) {\n",
              "          for (const buffer of message.buffers) {\n",
              "            buffers.push(buffer);\n",
              "            downloaded += buffer.byteLength;\n",
              "            progress.value = downloaded;\n",
              "          }\n",
              "        }\n",
              "      }\n",
              "      const blob = new Blob(buffers, {type: 'application/binary'});\n",
              "      const a = document.createElement('a');\n",
              "      a.href = window.URL.createObjectURL(blob);\n",
              "      a.download = filename;\n",
              "      div.appendChild(a);\n",
              "      a.click();\n",
              "      div.remove();\n",
              "    }\n",
              "  "
            ]
          },
          "metadata": {}
        },
        {
          "output_type": "display_data",
          "data": {
            "text/plain": [
              "<IPython.core.display.Javascript object>"
            ],
            "application/javascript": [
              "download(\"download_39de7262-8374-46a7-9b4e-81bea28f1f23\", \"indexes.zip\", 135190539)"
            ]
          },
          "metadata": {}
        }
      ]
    },
    {
      "cell_type": "markdown",
      "source": [
        "# Step 5:  Retrieve from Storage"
      ],
      "metadata": {
        "id": "L_pRedMgUScE"
      }
    },
    {
      "cell_type": "code",
      "source": [
        "# rebuild storage context\n",
        "SC_retrieved_sentence = StorageContext.from_defaults(persist_dir=\"./sentence_index\")\n",
        "SC_retrieved_base = StorageContext.from_defaults(persist_dir=\"./base_index\")"
      ],
      "metadata": {
        "id": "UAdB4QXZUVs_"
      },
      "execution_count": null,
      "outputs": []
    },
    {
      "cell_type": "code",
      "source": [
        "# load index\n",
        "retrieved_sentence_index = load_index_from_storage(SC_retrieved_sentence)\n",
        "retrieved_base_index = load_index_from_storage(SC_retrieved_base)"
      ],
      "metadata": {
        "id": "Qg-juqzLU-cK"
      },
      "execution_count": null,
      "outputs": []
    },
    {
      "cell_type": "markdown",
      "source": [
        "# Step 6: Create query engine"
      ],
      "metadata": {
        "id": "eAViwxwkVNfk"
      }
    },
    {
      "cell_type": "code",
      "source": [
        "from llama_index.postprocessor import MetadataReplacementPostProcessor\n",
        "\n",
        "sentence_query_engine = retrieved_sentence_index.as_query_engine(\n",
        "    similarity_top_k=5,\n",
        "    verbose=True,\n",
        "    # the target key defaults to `window` to match the node_parser's default\n",
        "    node_postprocessors=[\n",
        "        MetadataReplacementPostProcessor(target_metadata_key=\"window\")\n",
        "    ],\n",
        ")\n",
        "\n",
        "base_query_engine = retrieved_base_index.as_query_engine(\n",
        "    similarity_top_k=5,\n",
        "    verbose=True\n",
        ")"
      ],
      "metadata": {
        "id": "xYJsMTCo3QSV"
      },
      "execution_count": null,
      "outputs": []
    },
    {
      "cell_type": "markdown",
      "source": [
        "# Step 7:  Inference"
      ],
      "metadata": {
        "id": "S2ouHB8wWACq"
      }
    },
    {
      "cell_type": "code",
      "source": [
        "question = \"\""
      ],
      "metadata": {
        "id": "wG9E8G1YV-8V"
      },
      "execution_count": null,
      "outputs": []
    },
    {
      "cell_type": "code",
      "source": [
        "base_response = base_query_engine.query(\n",
        "    question\n",
        ")\n",
        "print(base_response)"
      ],
      "metadata": {
        "id": "Czr7gNJzuYrp"
      },
      "execution_count": null,
      "outputs": []
    },
    {
      "cell_type": "code",
      "source": [
        "sentence_response = sentence_query_engine.query(\n",
        "    question\n",
        ")\n",
        "print(sentence_response)"
      ],
      "metadata": {
        "id": "_legp_GIuc6r"
      },
      "execution_count": null,
      "outputs": []
    }
  ]
}